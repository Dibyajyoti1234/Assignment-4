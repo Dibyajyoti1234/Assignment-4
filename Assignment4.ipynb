{
 "cells": [
  {
   "cell_type": "code",
   "execution_count": null,
   "id": "b38218a4-e170-4f53-b9c7-752f3caec8de",
   "metadata": {},
   "outputs": [],
   "source": [
    "1.def keyword is use to creat a function."
   ]
  },
  {
   "cell_type": "code",
   "execution_count": 1,
   "id": "c885b961-4bb1-4aa1-b408-a7b8af7d9858",
   "metadata": {},
   "outputs": [],
   "source": [
    "def odd():\n",
    "    l = list(range(26))\n",
    "    for i in l:\n",
    "        if i%2 != 0:\n",
    "            print(i)\n",
    "        i +=1"
   ]
  },
  {
   "cell_type": "code",
   "execution_count": 2,
   "id": "100bfb70-eb2a-4938-b851-3d845ec2f00b",
   "metadata": {},
   "outputs": [
    {
     "name": "stdout",
     "output_type": "stream",
     "text": [
      "1\n",
      "3\n",
      "5\n",
      "7\n",
      "9\n",
      "11\n",
      "13\n",
      "15\n",
      "17\n",
      "19\n",
      "21\n",
      "23\n",
      "25\n"
     ]
    }
   ],
   "source": [
    "odd()"
   ]
  },
  {
   "cell_type": "code",
   "execution_count": null,
   "id": "86dd2460-3f44-4409-ae64-2e610f75d55d",
   "metadata": {},
   "outputs": [],
   "source": [
    "2. we use args and *kwargs as an argument when we are unsure about the number of arguments to pass in the function"
   ]
  },
  {
   "cell_type": "code",
   "execution_count": null,
   "id": "12298667-3018-4810-8ccd-d7f746716f89",
   "metadata": {},
   "outputs": [],
   "source": [
    "3. an iterator is an object in python.the iter() initialize the iterator object"
   ]
  },
  {
   "cell_type": "code",
   "execution_count": 3,
   "id": "8a5e1915-a9c8-41b9-a96c-606e4f67212d",
   "metadata": {},
   "outputs": [
    {
     "name": "stdout",
     "output_type": "stream",
     "text": [
      "2\n",
      "4\n",
      "6\n",
      "8\n",
      "10\n"
     ]
    }
   ],
   "source": [
    "l = [2,4,6,8,10,12,14,16,18,20]\n",
    "my_iterator = iter(l)\n",
    "for i in range(5):\n",
    "    print(next(my_iterator))"
   ]
  },
  {
   "cell_type": "code",
   "execution_count": null,
   "id": "07f5c0d4-892e-45be-bd34-c8b052c37b1c",
   "metadata": {},
   "outputs": [],
   "source": [
    "4. a generator is a function that returns an iterator that produces a sequence of values when iterated over.yield keyword is same as return statement it returns generator object"
   ]
  },
  {
   "cell_type": "code",
   "execution_count": 10,
   "id": "f35148bb-ec63-4269-8c5b-6c8c0650a34d",
   "metadata": {},
   "outputs": [],
   "source": [
    " def prime():\n",
    "        num = 2\n",
    "        while num<1000:\n",
    "            for i in range(2,num):\n",
    "                if num%i == 0:\n",
    "                    break\n",
    "                else:\n",
    "                    yield num\n",
    "        num  = num+1\n",
    "                    "
   ]
  },
  {
   "cell_type": "code",
   "execution_count": 11,
   "id": "755507af-3ce8-4f6a-b84e-7349fcb22b61",
   "metadata": {},
   "outputs": [],
   "source": [
    "prime_generator = prime() "
   ]
  },
  {
   "cell_type": "code",
   "execution_count": null,
   "id": "825fc79b-3193-4729-b467-7a3bb8979528",
   "metadata": {},
   "outputs": [],
   "source": [
    "for i in range(20):\n",
    "    print(next(prime_generator))"
   ]
  },
  {
   "cell_type": "code",
   "execution_count": 14,
   "id": "795beb56-9923-437c-a765-18a78f8d30a9",
   "metadata": {},
   "outputs": [],
   "source": [
    "def fab():\n",
    "    a,b = 0,1\n",
    "    i=0\n",
    "    while i<=10:\n",
    "        print(a)\n",
    "        a,b = b,a+b\n",
    "        i = i+1"
   ]
  },
  {
   "cell_type": "code",
   "execution_count": 15,
   "id": "f3489b9e-565e-4eba-b687-ea36a649a555",
   "metadata": {},
   "outputs": [
    {
     "name": "stdout",
     "output_type": "stream",
     "text": [
      "0\n",
      "1\n",
      "1\n",
      "2\n",
      "3\n",
      "5\n",
      "8\n",
      "13\n",
      "21\n",
      "34\n",
      "55\n"
     ]
    }
   ],
   "source": [
    "fab()"
   ]
  },
  {
   "cell_type": "code",
   "execution_count": null,
   "id": "e211131d-7e3c-4e8e-b850-bec0fa55a60c",
   "metadata": {},
   "outputs": [],
   "source": []
  }
 ],
 "metadata": {
  "kernelspec": {
   "display_name": "Python 3 (ipykernel)",
   "language": "python",
   "name": "python3"
  },
  "language_info": {
   "codemirror_mode": {
    "name": "ipython",
    "version": 3
   },
   "file_extension": ".py",
   "mimetype": "text/x-python",
   "name": "python",
   "nbconvert_exporter": "python",
   "pygments_lexer": "ipython3",
   "version": "3.10.8"
  }
 },
 "nbformat": 4,
 "nbformat_minor": 5
}
